{
 "cells": [
  {
   "cell_type": "code",
   "execution_count": 87,
   "metadata": {},
   "outputs": [],
   "source": [
    "#ELO based Ranking System for ElDewrito - halostats.click\n",
    "import math"
   ]
  },
  {
   "cell_type": "code",
   "execution_count": 35,
   "metadata": {},
   "outputs": [],
   "source": [
    "def getAggELO(opponentELO):\n",
    "    #sort opponentElo from greatest to least\n",
    "    \n",
    "    lamda=.6 #constant needed for proper exponential weighting\n",
    "    n=len(opponentELO)\n",
    "    eloWeight=[]  #create list of expWeightings\n",
    "    \n",
    "    for i in range(0,n):\n",
    "        eloWeight.append((1-lamda)*lamda**i)\n",
    "        \n",
    "    multiplier=1/sum(eloWeight) #find needed multiplier\n",
    "    actualWeight = [x * multiplier for x in eloWeight]\n",
    "    \n",
    "    rankValue=[]\n",
    "    for i in range(0,n):\n",
    "        rankValue.append(actualWeight[i]*opponentELO[i]) #multiply ranks by weight\n",
    "    \n",
    "    aggELO=sum(rankValue) #sum needed ranks\n",
    "    return aggELO"
   ]
  },
  {
   "cell_type": "code",
   "execution_count": 90,
   "metadata": {},
   "outputs": [],
   "source": [
    "def getRankFromELO(yourELO):\n",
    "    c=1.58 #c is used to map 2000 ELO to rank 50\n",
    "    rank=math.floor(c*(yourELO-1000)**(1/2)) \n",
    "    \n",
    "    if(rank>50):\n",
    "        rank=50\n",
    "    return rank"
   ]
  },
  {
   "cell_type": "code",
   "execution_count": 4,
   "metadata": {},
   "outputs": [],
   "source": [
    "def getTeamResult(teamPlacing,numTeams):\n",
    "    #formula scales team placings evenly from 1(first) to 0(last)\n",
    "    teamResult=1\n",
    "    if(numTeams==1):\n",
    "        teamResult=1\n",
    "    else:\n",
    "        teamResult=1-teamPlacing/(numTeams-1)\n",
    "        \n",
    "    return teamResult"
   ]
  },
  {
   "cell_type": "code",
   "execution_count": 56,
   "metadata": {},
   "outputs": [],
   "source": [
    "def updateELO(yourELO,opponentELO,teamPlacing,numTeams):\n",
    "    #opponentELO is a list of opposing team's ranks\n",
    "    #teamPlacing is team placing index starting from 0 (0 for win, 1 for second place, 2 for 3rd...)\n",
    "    aggELO=getAggELO(opponentELO)\n",
    "    teamResult=getTeamResult(teamPlacing,numTeams) #get team result value\n",
    "    \n",
    "    K = 50 \n",
    "    # dynamic K-scaling (optional)\n",
    "    if (yourELO < 1200):\n",
    "        if (score < 0.5):\n",
    "             K = 10 + (yourELO - 1000) * 40 / 200\n",
    "        elif (score > 0.5):\n",
    "             K = 90 - (yourELO - 1000) * 40 / 200\n",
    "    elif (yourELO > 1350):\n",
    "        K = 40\n",
    "    elif (yourELO > 1600):\n",
    "        K = 32\n",
    "\n",
    "    E = 1 / (1 + (10**((aggELO - yourELO) / 400)));\n",
    "    yourELO += K * (teamResult - E);\n",
    "\n",
    "    if (yourELO < 1000):\n",
    "        yourELO = 1000;\n",
    "\n",
    "    return yourELO"
   ]
  },
  {
   "cell_type": "code",
   "execution_count": 96,
   "metadata": {},
   "outputs": [
    {
     "name": "stdout",
     "output_type": "stream",
     "text": [
      "31\n",
      "32\n"
     ]
    }
   ],
   "source": [
    "yourELO = 1400\n",
    "opponentELO = [1600,1500]\n",
    "teamPlacing = 0\n",
    "numTeams = 3\n",
    "updatedELO=updateELO(yourELO,opponentELO,teamPlacing,numTeams)\n",
    "\n",
    "print(getRankFromELO(yourELO))\n",
    "print(getRankFromELO(updatedELO))"
   ]
  },
  {
   "cell_type": "code",
   "execution_count": null,
   "metadata": {},
   "outputs": [],
   "source": []
  }
 ],
 "metadata": {
  "anaconda-cloud": {},
  "kernelspec": {
   "display_name": "Python 3",
   "language": "python",
   "name": "python3"
  },
  "language_info": {
   "codemirror_mode": {
    "name": "ipython",
    "version": 3
   },
   "file_extension": ".py",
   "mimetype": "text/x-python",
   "name": "python",
   "nbconvert_exporter": "python",
   "pygments_lexer": "ipython3",
   "version": "3.6.5"
  }
 },
 "nbformat": 4,
 "nbformat_minor": 1
}
