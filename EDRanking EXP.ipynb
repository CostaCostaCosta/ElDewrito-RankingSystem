{
 "cells": [
  {
   "cell_type": "code",
   "execution_count": null,
   "metadata": {},
   "outputs": [],
   "source": [
    "#Ed Costantini\n",
    "#EXP based Ranking System for ElDewrito - halostats.click"
   ]
  },
  {
   "cell_type": "code",
   "execution_count": 13,
   "metadata": {},
   "outputs": [],
   "source": [
    "def getAggRank(opponentRanks):\n",
    "    lamda=.6 #constant needed for proper weighting\n",
    "    n=len(opponentRanks)\n",
    "    #set \n",
    "    for x in opponentRanks:\n",
    "        if(opponentRanks[x]<10):\n",
    "            opponentRanks[x]=10\n",
    "    expWeight=[]  #create arrary/list of expWeightings\n",
    "    \n",
    "    for i in range(0,n):\n",
    "        expWeight[i]=(1-lamda)*lamda^i\n",
    "        \n",
    "    multiplier=1/sum(expWeight) #find needed multiplier\n",
    "    actualWeight=expWeight*multiplier #adjust weightings\n",
    "    rankValue=opponentRanks*actualWeight #multiply ranks by weight\n",
    "    \n",
    "    aggRank=sum(rankValue) #sum needed ranks\n",
    "    return aggRank"
   ]
  },
  {
   "cell_type": "code",
   "execution_count": 19,
   "metadata": {},
   "outputs": [],
   "source": [
    "def getRankMultiplier(yourRank,aggRank):\n",
    "    \n",
    "    #sets min rank to 10 for calculation purposes\n",
    "    if(yourRank<10):\n",
    "        yourRank=10\n",
    "        \n",
    "    divisorConstant=.75 #determined experimentally for desired EXP changes\n",
    "    #magic equation\n",
    "    rankMult=exp((yourRank-aggRank)/\n",
    "                 ((yourRank+aggRank)/2*divisorConstant))\n",
    "    return rankMult"
   ]
  },
  {
   "cell_type": "code",
   "execution_count": 15,
   "metadata": {
    "collapsed": true
   },
   "outputs": [],
   "source": [
    "def getRankFromXP(XP):\n",
    "    rank=floor(XP/2)^(1/3)\n",
    "    return rank"
   ]
  },
  {
   "cell_type": "code",
   "execution_count": 20,
   "metadata": {
    "collapsed": true
   },
   "outputs": [],
   "source": [
    "def getTeamResult(teamPlacing,numTeams):\n",
    "    #formula scales team placings evenly from 1(first) to -1(last)\n",
    "    teamResult=1\n",
    "    if(numTeams==1):\n",
    "        teamResult=1\n",
    "    else:\n",
    "        teamResult=1-teamPlacing*(2/(numTeams-1))\n",
    "        \n",
    "    return teamResult"
   ]
  },
  {
   "cell_type": "code",
   "execution_count": 21,
   "metadata": {
    "collapsed": true
   },
   "outputs": [],
   "source": [
    "def getXPChange(yourRank,opponentRanks,winPoints,teamPlacing,numTeams,numPlayers):\n",
    "    #opponentRanks is an array or list of opposing team's ranks\n",
    "    #winPoints is standard reward for winning, currently works well at 2000 points\n",
    "    #teamPlacing is team placing index starting from 0 (0 for win, 1 for second place, 2 for 3rd...)\n",
    "    aggRank=getAggRank(opponentRanks)\n",
    "    rankMultiplier=getRankMultiplier(yourRank,aggRank)\n",
    "    \n",
    "    teamResult=getTeamResult(teamPlacing) #get team result value\n",
    "    xpChange=0\n",
    "    \n",
    "    if(teamResult>0):\n",
    "        xpChange=rankMultiplier*winPoints*teamResult\n",
    "    elif(teamResult<0):\n",
    "        xpChange=(1/rankMultiplier)*winPoints*teamResult\n",
    "    else:\n",
    "        xpChange=0\n",
    "    return xpChange"
   ]
  },
  {
   "cell_type": "code",
   "execution_count": null,
   "metadata": {
    "collapsed": true
   },
   "outputs": [],
   "source": []
  }
 ],
 "metadata": {
  "anaconda-cloud": {},
  "kernelspec": {
   "display_name": "Python 3",
   "language": "python",
   "name": "python3"
  },
  "language_info": {
   "codemirror_mode": {
    "name": "ipython",
    "version": 3
   },
   "file_extension": ".py",
   "mimetype": "text/x-python",
   "name": "python",
   "nbconvert_exporter": "python",
   "pygments_lexer": "ipython3",
   "version": "3.6.5"
  }
 },
 "nbformat": 4,
 "nbformat_minor": 1
}
